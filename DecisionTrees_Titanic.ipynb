{
 "cells": [
  {
   "cell_type": "code",
   "execution_count": 1,
   "metadata": {},
   "outputs": [],
   "source": [
    "#Decision Trees"
   ]
  },
  {
   "cell_type": "code",
   "execution_count": 1,
   "metadata": {},
   "outputs": [],
   "source": [
    "import numpy as np\n",
    "import pandas as pd\n",
    "from sklearn.preprocessing import Imputer\n",
    "from sklearn.model_selection import train_test_split"
   ]
  },
  {
   "cell_type": "code",
   "execution_count": 2,
   "metadata": {},
   "outputs": [],
   "source": [
    "df1_train=pd.read_csv(r\"C:\\Users\\vkatepally\\Decision_Tree\\train.csv\")"
   ]
  },
  {
   "cell_type": "code",
   "execution_count": 3,
   "metadata": {},
   "outputs": [
    {
     "data": {
      "text/html": [
       "<div>\n",
       "<style scoped>\n",
       "    .dataframe tbody tr th:only-of-type {\n",
       "        vertical-align: middle;\n",
       "    }\n",
       "\n",
       "    .dataframe tbody tr th {\n",
       "        vertical-align: top;\n",
       "    }\n",
       "\n",
       "    .dataframe thead th {\n",
       "        text-align: right;\n",
       "    }\n",
       "</style>\n",
       "<table border=\"1\" class=\"dataframe\">\n",
       "  <thead>\n",
       "    <tr style=\"text-align: right;\">\n",
       "      <th></th>\n",
       "      <th>PassengerId</th>\n",
       "      <th>Survived</th>\n",
       "      <th>Pclass</th>\n",
       "      <th>Name</th>\n",
       "      <th>Sex</th>\n",
       "      <th>Age</th>\n",
       "      <th>SibSp</th>\n",
       "      <th>Parch</th>\n",
       "      <th>Ticket</th>\n",
       "      <th>Fare</th>\n",
       "      <th>Cabin</th>\n",
       "      <th>Embarked</th>\n",
       "    </tr>\n",
       "  </thead>\n",
       "  <tbody>\n",
       "    <tr>\n",
       "      <th>0</th>\n",
       "      <td>1</td>\n",
       "      <td>0</td>\n",
       "      <td>3</td>\n",
       "      <td>Braund, Mr. Owen Harris</td>\n",
       "      <td>male</td>\n",
       "      <td>22.0</td>\n",
       "      <td>1</td>\n",
       "      <td>0</td>\n",
       "      <td>A/5 21171</td>\n",
       "      <td>7.2500</td>\n",
       "      <td>NaN</td>\n",
       "      <td>S</td>\n",
       "    </tr>\n",
       "    <tr>\n",
       "      <th>1</th>\n",
       "      <td>2</td>\n",
       "      <td>1</td>\n",
       "      <td>1</td>\n",
       "      <td>Cumings, Mrs. John Bradley (Florence Briggs Th...</td>\n",
       "      <td>female</td>\n",
       "      <td>38.0</td>\n",
       "      <td>1</td>\n",
       "      <td>0</td>\n",
       "      <td>PC 17599</td>\n",
       "      <td>71.2833</td>\n",
       "      <td>C85</td>\n",
       "      <td>C</td>\n",
       "    </tr>\n",
       "    <tr>\n",
       "      <th>2</th>\n",
       "      <td>3</td>\n",
       "      <td>1</td>\n",
       "      <td>3</td>\n",
       "      <td>Heikkinen, Miss. Laina</td>\n",
       "      <td>female</td>\n",
       "      <td>26.0</td>\n",
       "      <td>0</td>\n",
       "      <td>0</td>\n",
       "      <td>STON/O2. 3101282</td>\n",
       "      <td>7.9250</td>\n",
       "      <td>NaN</td>\n",
       "      <td>S</td>\n",
       "    </tr>\n",
       "    <tr>\n",
       "      <th>3</th>\n",
       "      <td>4</td>\n",
       "      <td>1</td>\n",
       "      <td>1</td>\n",
       "      <td>Futrelle, Mrs. Jacques Heath (Lily May Peel)</td>\n",
       "      <td>female</td>\n",
       "      <td>35.0</td>\n",
       "      <td>1</td>\n",
       "      <td>0</td>\n",
       "      <td>113803</td>\n",
       "      <td>53.1000</td>\n",
       "      <td>C123</td>\n",
       "      <td>S</td>\n",
       "    </tr>\n",
       "    <tr>\n",
       "      <th>4</th>\n",
       "      <td>5</td>\n",
       "      <td>0</td>\n",
       "      <td>3</td>\n",
       "      <td>Allen, Mr. William Henry</td>\n",
       "      <td>male</td>\n",
       "      <td>35.0</td>\n",
       "      <td>0</td>\n",
       "      <td>0</td>\n",
       "      <td>373450</td>\n",
       "      <td>8.0500</td>\n",
       "      <td>NaN</td>\n",
       "      <td>S</td>\n",
       "    </tr>\n",
       "  </tbody>\n",
       "</table>\n",
       "</div>"
      ],
      "text/plain": [
       "   PassengerId  Survived  Pclass  \\\n",
       "0            1         0       3   \n",
       "1            2         1       1   \n",
       "2            3         1       3   \n",
       "3            4         1       1   \n",
       "4            5         0       3   \n",
       "\n",
       "                                                Name     Sex   Age  SibSp  \\\n",
       "0                            Braund, Mr. Owen Harris    male  22.0      1   \n",
       "1  Cumings, Mrs. John Bradley (Florence Briggs Th...  female  38.0      1   \n",
       "2                             Heikkinen, Miss. Laina  female  26.0      0   \n",
       "3       Futrelle, Mrs. Jacques Heath (Lily May Peel)  female  35.0      1   \n",
       "4                           Allen, Mr. William Henry    male  35.0      0   \n",
       "\n",
       "   Parch            Ticket     Fare Cabin Embarked  \n",
       "0      0         A/5 21171   7.2500   NaN        S  \n",
       "1      0          PC 17599  71.2833   C85        C  \n",
       "2      0  STON/O2. 3101282   7.9250   NaN        S  \n",
       "3      0            113803  53.1000  C123        S  \n",
       "4      0            373450   8.0500   NaN        S  "
      ]
     },
     "execution_count": 3,
     "metadata": {},
     "output_type": "execute_result"
    }
   ],
   "source": [
    "df1_train.head()"
   ]
  },
  {
   "cell_type": "code",
   "execution_count": 4,
   "metadata": {},
   "outputs": [
    {
     "data": {
      "text/plain": [
       "PassengerId      int64\n",
       "Survived         int64\n",
       "Pclass           int64\n",
       "Name            object\n",
       "Sex             object\n",
       "Age            float64\n",
       "SibSp            int64\n",
       "Parch            int64\n",
       "Ticket          object\n",
       "Fare           float64\n",
       "Cabin           object\n",
       "Embarked        object\n",
       "dtype: object"
      ]
     },
     "execution_count": 4,
     "metadata": {},
     "output_type": "execute_result"
    }
   ],
   "source": [
    "df1_train.dtypes"
   ]
  },
  {
   "cell_type": "code",
   "execution_count": 5,
   "metadata": {},
   "outputs": [
    {
     "data": {
      "text/plain": [
       "PassengerId      0\n",
       "Survived         0\n",
       "Pclass           0\n",
       "Name             0\n",
       "Sex              0\n",
       "Age            177\n",
       "SibSp            0\n",
       "Parch            0\n",
       "Ticket           0\n",
       "Fare             0\n",
       "Cabin          687\n",
       "Embarked         2\n",
       "dtype: int64"
      ]
     },
     "execution_count": 5,
     "metadata": {},
     "output_type": "execute_result"
    }
   ],
   "source": [
    "df1_train.isnull().sum()"
   ]
  },
  {
   "cell_type": "code",
   "execution_count": 6,
   "metadata": {},
   "outputs": [],
   "source": [
    "#Removing the cabin  and age columns because most of teh data is mising\n",
    "df1=df1_train.drop(axis=1,labels=[\"Cabin\"])"
   ]
  },
  {
   "cell_type": "code",
   "execution_count": 7,
   "metadata": {},
   "outputs": [],
   "source": [
    "imp=Imputer(missing_values='NaN',strategy='mean')\n",
    "df1['Age'] = imp.fit_transform(df1['Age'].values.reshape(-1,1))"
   ]
  },
  {
   "cell_type": "code",
   "execution_count": 8,
   "metadata": {},
   "outputs": [
    {
     "data": {
      "text/plain": [
       "PassengerId    0\n",
       "Survived       0\n",
       "Pclass         0\n",
       "Name           0\n",
       "Sex            0\n",
       "Age            0\n",
       "SibSp          0\n",
       "Parch          0\n",
       "Ticket         0\n",
       "Fare           0\n",
       "Embarked       2\n",
       "dtype: int64"
      ]
     },
     "execution_count": 8,
     "metadata": {},
     "output_type": "execute_result"
    }
   ],
   "source": [
    "df1.isnull().sum()"
   ]
  },
  {
   "cell_type": "code",
   "execution_count": 9,
   "metadata": {},
   "outputs": [],
   "source": [
    "#df1=df1.infer_objects()\n",
    "#df1['Embarked']=df1['Embarked'].astype('string')\n",
    "#print(df1.dtypes)\n",
    "#imp=Imputer(missing_values='NaN',strategy=\"most_frequent\")\n",
    "#df1['Embarked']=imp.fit_transform(df1[\"Embarked\"].values.reshape(-1,1))"
   ]
  },
  {
   "cell_type": "code",
   "execution_count": 10,
   "metadata": {},
   "outputs": [
    {
     "name": "stdout",
     "output_type": "stream",
     "text": [
      "PassengerId       int64\n",
      "Survived          int64\n",
      "Pclass            int64\n",
      "Name             object\n",
      "Sex            category\n",
      "Age             float64\n",
      "SibSp             int64\n",
      "Parch             int64\n",
      "Ticket           object\n",
      "Fare            float64\n",
      "Embarked         object\n",
      "dtype: object\n"
     ]
    }
   ],
   "source": [
    "df1.dtypes\n",
    "#sex feature is object convert it to category\n",
    "df1['Sex']=df1['Sex'].astype('category')\n",
    "print(df1.dtypes)"
   ]
  },
  {
   "cell_type": "code",
   "execution_count": 11,
   "metadata": {},
   "outputs": [
    {
     "name": "stdout",
     "output_type": "stream",
     "text": [
      "male      577\n",
      "female    314\n",
      "Name: Sex, dtype: int64\n",
      "[1 0]\n"
     ]
    }
   ],
   "source": [
    "#convert sex feature to numeric\n",
    "#this also can be done using label encoder of scikit learn\n",
    "#df1['Sex'][df1.Sex=='female']=1\n",
    "#df1['Sex'][df1.Sex=='male']=0\n",
    "from sklearn import preprocessing\n",
    "print(df1['Sex'].value_counts())\n",
    "le=preprocessing.LabelEncoder()\n",
    "\n",
    "df1['Sex']=le.fit_transform(df1['Sex'])\n",
    "#le.inverse_transform(['female','male'])\n",
    "print(df1['Sex'].unique())\n",
    "\n"
   ]
  },
  {
   "cell_type": "code",
   "execution_count": 12,
   "metadata": {},
   "outputs": [],
   "source": [
    "columns = ['Pclass','Sex','Age','Fare','Parch','SibSp']\n",
    "X=df1[columns]\n",
    "y=df1['Survived']"
   ]
  },
  {
   "cell_type": "code",
   "execution_count": 13,
   "metadata": {},
   "outputs": [],
   "source": [
    "X_train, X_test, y_train, y_test = train_test_split(X, y, test_size=0.2, random_state=42)\n",
    "#X_train\n",
    "#y_train"
   ]
  },
  {
   "cell_type": "code",
   "execution_count": 14,
   "metadata": {},
   "outputs": [
    {
     "name": "stdout",
     "output_type": "stream",
     "text": [
      "Accuracy score using gini criterion of train data 0.9803370786516854\n",
      "Accuracy score using gini criterion of test data 0.7597765363128491\n",
      "Accuracy score using entropy criterion of train data 0.9803370786516854\n",
      "Accuracy score using entropy criterion of test data 0.776536312849162\n"
     ]
    }
   ],
   "source": [
    "\n",
    "from sklearn.tree import  DecisionTreeClassifier\n",
    "#here all the parameters are default\n",
    "#criterion:default -gini\n",
    "clf=DecisionTreeClassifier()\n",
    "clf.fit(X_train,y_train)\n",
    "print(\"Accuracy score using gini criterion of train data\", clf.score(X_train,y_train))\n",
    "print(\"Accuracy score using gini criterion of test data\", clf.score(X_test,y_test))\n",
    "#print(clf.score(X_test,y_test))\n",
    "\n",
    "#using the criteruion as entropy and check if there is increase in accuracy\n",
    "clf=DecisionTreeClassifier(criterion='entropy')\n",
    "clf.fit(X_train,y_train)\n",
    "print(\"Accuracy score using entropy criterion of train data\", clf.score(X_train,y_train))\n",
    "print(\"Accuracy score using entropy criterion of test data\", clf.score(X_test,y_test))\n"
   ]
  },
  {
   "cell_type": "markdown",
   "metadata": {},
   "source": [
    "# max_features : int, float, string or None, optional (default=None)\n",
    "    The number of features to consider when looking for the best split:\n",
    "\n",
    "        - If int, then consider `max_features` features at each split.\n",
    "        - If float, then `max_features` is a percentage and\n",
    "          `int(max_features * n_features)` features are considered at each\n",
    "          split.\n",
    "        - If \"auto\", then `max_features=sqrt(n_features)`.\n",
    "        - If \"sqrt\", then `max_features=sqrt(n_features)`.\n",
    "        - If \"log2\", then `max_features=log2(n_features)`.\n",
    "        - If None, then `max_features=n_features`."
   ]
  },
  {
   "cell_type": "code",
   "execution_count": 16,
   "metadata": {},
   "outputs": [
    {
     "name": "stdout",
     "output_type": "stream",
     "text": [
      "6\n"
     ]
    },
    {
     "data": {
      "image/png": "[encoded data removed]",
      "text/plain": [
       "<Figure size 432x288 with 1 Axes>"
      ]
     },
     "metadata": {
      "needs_background": "light"
     },
     "output_type": "display_data"
    }
   ],
   "source": [
    "import matplotlib.pyplot as plt\n",
    "from sklearn.metrics import *\n",
    "#fine tuning the hyper parameters\n",
    "print((len(columns)))\n",
    "train_score=[]\n",
    "test_score=[]\n",
    "auc_train=[]\n",
    "auc_test=[]\n",
    "#max_features=range(len(columns)-1)\n",
    "max_features=np.arange(1,len(columns)+1,1)\n",
    "for i in max_features:\n",
    "    clf=DecisionTreeClassifier(criterion='entropy',max_features=i)\n",
    "    clf.fit(X_train,y_train)\n",
    "    \n",
    "    train_pred=clf.predict(X_train)\n",
    "    fpr_train,tpr_train,a_train=roc_curve(y_train,train_pred)\n",
    "    auc_train.append(auc(fpr_train,tpr_train))\n",
    "    \n",
    "    \n",
    "    \n",
    "    test_pred=clf.predict(X_test)\n",
    "    fpr_test,tpr_test,a_test=roc_curve(y_true=y_test,y_score=test_pred)\n",
    "    auc_test.append(auc(fpr_test,tpr_test))\n",
    "    \n",
    "    \n",
    "    train_score.append(clf.score(X_train,y_train))\n",
    "    test_score.append(clf.score(X_test,y_test))\n",
    "   \n",
    "    #print(\"number of features\",i+1)\n",
    "    #print(\"Accuracy score using gini criterion of train data\", clf.score(X_train,y_train))\n",
    "    #print(\"Accuracy score using gini criterion of test data\", clf.score(X_test,y_test))\n",
    "\n",
    "\n",
    "\n",
    "from matplotlib.legend_handler import HandlerLine2D\n",
    "line1, = plt.plot(max_features, auc_train, 'b', label='Train AUC')\n",
    "line2, = plt.plot(max_features, auc_test, 'r', label='Test AUC')\n",
    "\n",
    "plt.legend(handler_map={line1: HandlerLine2D(numpoints=2)})\n",
    "\n",
    "plt.ylabel('AUC score')\n",
    "plt.xlabel('Tree depth')\n",
    "plt.show()\n",
    "    \n",
    "#plt.plot(max_features,train_score)\n",
    "#plt.plot(max_features,test_score)\n",
    "#plt.xlabel(\"max_features\")\n",
    "#plt.ylabel('Accuracy')\n",
    "#plt.lab(\"training_score\",\"test_score\")\n",
    "    \n",
    "#for i in range(len(columns)-1)\n",
    "\n",
    "\n",
    "#clf=DecisionTreeClassifier(criterion='entropy',max_features=)\n",
    "#clf.fit(X_train,y_train)\n",
    "#print(\"Accuracy score using gini criterion\", clf.score(X_test,y_test))"
   ]
  },
  {
   "cell_type": "markdown",
   "metadata": {},
   "source": [
    "# max_depth : int or None, optional (default=None)\n",
    "    The maximum depth of the tree. If None, then nodes are expanded until\n",
    "    all leaves are pure or until all leaves contain less than\n",
    "    min_samples_split samples."
   ]
  },
  {
   "cell_type": "code",
   "execution_count": 17,
   "metadata": {},
   "outputs": [
    {
     "data": {
      "image/png": "[encoded data removed]",
      "text/plain": [
       "<Figure size 432x288 with 1 Axes>"
      ]
     },
     "metadata": {
      "needs_background": "light"
     },
     "output_type": "display_data"
    }
   ],
   "source": [
    "max_depth=np.arange(1,7,1)\n",
    "\n",
    "train_score=[]\n",
    "test_score=[]\n",
    "auc_train=[]\n",
    "auc_test=[]\n",
    "for i in max_depth:\n",
    "    clf=DecisionTreeClassifier(criterion='entropy',max_depth=i)\n",
    "    clf.fit(X_train,y_train)\n",
    "    \n",
    "    train_pred=clf.predict(X_train)\n",
    "    fpr_train,tpr_train,a_train=roc_curve(y_train,train_pred)\n",
    "    auc_train.append(auc(fpr_train,tpr_train))\n",
    "    \n",
    "    \n",
    "    \n",
    "    test_pred=clf.predict(X_test)\n",
    "    fpr_test,tpr_test,a_test=roc_curve(y_true=y_test,y_score=test_pred)\n",
    "    auc_test.append(auc(fpr_test,tpr_test))\n",
    "    \n",
    "    \n",
    "    train_score.append(clf.score(X_train,y_train))\n",
    "    test_score.append(clf.score(X_test,y_test))\n",
    "   \n",
    "    #print(\"number of features\",i+1)\n",
    "    #print(\"Accuracy score using gini criterion of train data\", clf.score(X_train,y_train))\n",
    "    #print(\"Accuracy score using gini criterion of test data\", clf.score(X_test,y_test))\n",
    "\n",
    "\n",
    "\n",
    "from matplotlib.legend_handler import HandlerLine2D\n",
    "line1, = plt.plot(max_depth, auc_train, 'b', label='Train AUC')\n",
    "line2, = plt.plot(max_depth, auc_test, 'r', label='Test AUC')\n",
    "\n",
    "plt.legend(handler_map={line1: HandlerLine2D(numpoints=2)})\n",
    "\n",
    "plt.ylabel('AUC score')\n",
    "plt.xlabel('Tree depth')\n",
    "plt.show()\n"
   ]
  },
  {
   "cell_type": "code",
   "execution_count": 18,
   "metadata": {},
   "outputs": [
    {
     "name": "stdout",
     "output_type": "stream",
     "text": [
      "[0.20347089 0.43083098 0.15838632 0.15098791 0.00561902 0.05070488]\n"
     ]
    },
    {
     "data": {
      "text/plain": [
       "<BarContainer object of 6 artists>"
      ]
     },
     "execution_count": 18,
     "metadata": {},
     "output_type": "execute_result"
    },
    {
     "data": {
      "image/png": "[encoded data removed]",
      "text/plain": [
       "<Figure size 432x288 with 1 Axes>"
      ]
     },
     "metadata": {
      "needs_background": "light"
     },
     "output_type": "display_data"
    }
   ],
   "source": [
    "#feature importance\n",
    "print(clf.feature_importances_)\n",
    "plt.bar(columns,clf.feature_importances_)"
   ]
  },
  {
   "cell_type": "code",
   "execution_count": 116,
   "metadata": {},
   "outputs": [
    {
     "ename": "KeyError",
     "evalue": "'[  0   1   2   3   4   5   7   8   9  10  12  13  14  15  16  17  19  21\\n  22  23  24  25  26  27  28  29  30  31  32  33  34  35  36  38  39  40\\n  41  42  43  44  45  47  48  49  50  51  52  53  54  55  56  57  58  59\\n  60  61  62  63  64  65  66  67  68  69  70  71  72  73  74  75  76  77\\n  78  79  80  81  82  83  84  85  86  87  88  89  90  91  92  93  94  95\\n  96  97  98  99 100 101 102 103 104 105 106 107 108 109 110 111 112 113\\n 115 116 118 119 121 122 123 124 125 126 128 129 130 131 132 133 134 135\\n 136 137 138 139 140 141 142 144 145 146 147 148 151 152 153 154 156 158\\n 159 160 161 162 163 165 166 167 168 169 170 171 172 173 174 175 176 177\\n 178 179 180 181 182 183 184 186 188 189 190 192 194 195 196 197 198 199\\n 200 201 202 203 204 205 206 208 209 211 212 213 214 215 216 217 218 219\\n 220 221 222 223 224 225 226 227 228 229 230 231 232 233 234 235 236 237\\n 238 239 240 241 242 243 244 245 246 247 248 249 250 251 252 253 254 256\\n 258 259 260 261 262 263 264 265 266 267 268 269 271 272 273 275 276 277\\n 278 279 280 281 282 283 284 285 286 287 288 290 291 292 293 294 295 296\\n 297 298 299 300 301 302 303 304 305 306 307 309 310 311 312 315 316 317\\n 319 320 321 322 323 324 325 326 327 328 329 330 332 333 334 335 336 337\\n 338 339 340 341 342 343 344 345 346 347 348 350 351 353 354 355 356 357\\n 358 359 360 361 362 363 364 365 366 367 368 369 370 371 373 374 375 378\\n 379 380 381 382 383 384 385 386 388 389 390 391 392 393 395 396 397 398\\n 399 400 401 402 403 404 405 407 408 410 411 412 413 414 415 416 417 418\\n 419 421 422 423 424 425 426 427 428 429 430 431 434 435 436 437 438 439\\n 440 441 442 443 444 445 446 447 449 450 451 452 454 456 457 458 459 460\\n 461 462 463 464 465 466 467 468 469 470 471 472 473 474 475 476 477 478\\n 479 480 481 483 484 485 486 487 488 489 490 491 492 493 494 496 497 498\\n 499 500 501 502 503 504 507 508 509 510 511 512 513 514 515 516 517 518\\n 519 520 521 522 523 524 525 526 527 529 530 532 533 534 535 537 538 539\\n 540 541 542 543 544 545 546 547 548 549 550 551 552 553 554 555 556 557\\n 558 559 561 562 563 564 566 567 568 570 571 572 573 574 575 576 579 581\\n 582 583 584 585 586 587 588 589 591 592 593 594 595 596 597 598 600 601\\n 603 604 605 606 607 608 609 610 611 612 613 614 615 616 617 618 619 620\\n 621 623 624 625 626 628 629 630 631 633 634 635 636 637 638 639 641 642\\n 644 645 646 647 648 649 650 651 652 653 654 655 656 657 658 659 660 661\\n 662 663 664 665 667 668 669 670 672 673 675 676 677 678 680 681 682 683\\n 684 685 686 687 688 689 691 692 693 694 695 696 697 699 700 701 702 703\\n 704 705 706 707 708 709 710 711 712 713 715 716 717 718 719 720 721 723\\n 724 725 726 727 728 729 731 732 733 734 736 737 738 739 740 741 742 743\\n 744 745 746 748 749 750 751 752 753 754 755 756 757 758 759 760 761 762\\n 763 764 765 766 767 769 770 771 772 774 775 776 777 778 779 780 781 782\\n 783 784 786 787 788 789 790 791 793 794 795 796 797 798 799 800 801 802\\n 803 804 805 806 807 809 810 811 812 813 814 815 817 818 819 820 821 822\\n 823 825 826 827 828 829 830 831 832 833 835 836 837 838 839 840 842 843\\n 844 845 846 847 848 849 850 851 852 853 854 855 856 857 858 859 860 861\\n 862 863 864 865 866 867 868 869 870 872 873 874 875 876 877 878 879 880\\n 881 882 883 884 886 887 888 889 890] not in index'",
     "output_type": "error",
     "traceback": [
      "\u001b[1;31m---------------------------------------------------------------------------\u001b[0m",
      "\u001b[1;31mKeyError\u001b[0m                                  Traceback (most recent call last)",
      "\u001b[1;32m<ipython-input-116-4bcac5cc5395>\u001b[0m in \u001b[0;36m<module>\u001b[1;34m()\u001b[0m\n\u001b[0;32m     15\u001b[0m     \u001b[1;31m#print(train_index )\u001b[0m\u001b[1;33m\u001b[0m\u001b[1;33m\u001b[0m\u001b[0m\n\u001b[0;32m     16\u001b[0m     \u001b[1;31m#print(test_index)\u001b[0m\u001b[1;33m\u001b[0m\u001b[1;33m\u001b[0m\u001b[0m\n\u001b[1;32m---> 17\u001b[1;33m     \u001b[0mX_train\u001b[0m\u001b[1;33m,\u001b[0m\u001b[0mX_test\u001b[0m\u001b[1;33m=\u001b[0m\u001b[0mX\u001b[0m\u001b[1;33m[\u001b[0m\u001b[0mtrain_index\u001b[0m\u001b[1;33m]\u001b[0m\u001b[1;33m,\u001b[0m\u001b[0mX\u001b[0m\u001b[1;33m[\u001b[0m\u001b[0mtest_index\u001b[0m\u001b[1;33m]\u001b[0m\u001b[1;33m\u001b[0m\u001b[0m\n\u001b[0m\u001b[0;32m     18\u001b[0m     \u001b[0my_train\u001b[0m\u001b[1;33m,\u001b[0m\u001b[0my_test\u001b[0m\u001b[1;33m=\u001b[0m\u001b[0my\u001b[0m\u001b[1;33m[\u001b[0m\u001b[0mtrain_index\u001b[0m\u001b[1;33m]\u001b[0m\u001b[1;33m,\u001b[0m\u001b[0my\u001b[0m\u001b[1;33m[\u001b[0m\u001b[0mtest_index\u001b[0m\u001b[1;33m]\u001b[0m\u001b[1;33m\u001b[0m\u001b[0m\n\u001b[0;32m     19\u001b[0m     \u001b[1;31m#clf.fit(X_train,y_train)\u001b[0m\u001b[1;33m\u001b[0m\u001b[1;33m\u001b[0m\u001b[0m\n",
      "\u001b[1;32m~\\AppData\\Local\\Continuum\\anaconda3\\envs\\py36\\lib\\site-packages\\pandas\\core\\frame.py\u001b[0m in \u001b[0;36m__getitem__\u001b[1;34m(self, key)\u001b[0m\n\u001b[0;32m   2680\u001b[0m         \u001b[1;32mif\u001b[0m \u001b[0misinstance\u001b[0m\u001b[1;33m(\u001b[0m\u001b[0mkey\u001b[0m\u001b[1;33m,\u001b[0m \u001b[1;33m(\u001b[0m\u001b[0mSeries\u001b[0m\u001b[1;33m,\u001b[0m \u001b[0mnp\u001b[0m\u001b[1;33m.\u001b[0m\u001b[0mndarray\u001b[0m\u001b[1;33m,\u001b[0m \u001b[0mIndex\u001b[0m\u001b[1;33m,\u001b[0m \u001b[0mlist\u001b[0m\u001b[1;33m)\u001b[0m\u001b[1;33m)\u001b[0m\u001b[1;33m:\u001b[0m\u001b[1;33m\u001b[0m\u001b[0m\n\u001b[0;32m   2681\u001b[0m             \u001b[1;31m# either boolean or fancy integer index\u001b[0m\u001b[1;33m\u001b[0m\u001b[1;33m\u001b[0m\u001b[0m\n\u001b[1;32m-> 2682\u001b[1;33m             \u001b[1;32mreturn\u001b[0m \u001b[0mself\u001b[0m\u001b[1;33m.\u001b[0m\u001b[0m_getitem_array\u001b[0m\u001b[1;33m(\u001b[0m\u001b[0mkey\u001b[0m\u001b[1;33m)\u001b[0m\u001b[1;33m\u001b[0m\u001b[0m\n\u001b[0m\u001b[0;32m   2683\u001b[0m         \u001b[1;32melif\u001b[0m \u001b[0misinstance\u001b[0m\u001b[1;33m(\u001b[0m\u001b[0mkey\u001b[0m\u001b[1;33m,\u001b[0m \u001b[0mDataFrame\u001b[0m\u001b[1;33m)\u001b[0m\u001b[1;33m:\u001b[0m\u001b[1;33m\u001b[0m\u001b[0m\n\u001b[0;32m   2684\u001b[0m             \u001b[1;32mreturn\u001b[0m \u001b[0mself\u001b[0m\u001b[1;33m.\u001b[0m\u001b[0m_getitem_frame\u001b[0m\u001b[1;33m(\u001b[0m\u001b[0mkey\u001b[0m\u001b[1;33m)\u001b[0m\u001b[1;33m\u001b[0m\u001b[0m\n",
      "\u001b[1;32m~\\AppData\\Local\\Continuum\\anaconda3\\envs\\py36\\lib\\site-packages\\pandas\\core\\frame.py\u001b[0m in \u001b[0;36m_getitem_array\u001b[1;34m(self, key)\u001b[0m\n\u001b[0;32m   2724\u001b[0m             \u001b[1;32mreturn\u001b[0m \u001b[0mself\u001b[0m\u001b[1;33m.\u001b[0m\u001b[0m_take\u001b[0m\u001b[1;33m(\u001b[0m\u001b[0mindexer\u001b[0m\u001b[1;33m,\u001b[0m \u001b[0maxis\u001b[0m\u001b[1;33m=\u001b[0m\u001b[1;36m0\u001b[0m\u001b[1;33m)\u001b[0m\u001b[1;33m\u001b[0m\u001b[0m\n\u001b[0;32m   2725\u001b[0m         \u001b[1;32melse\u001b[0m\u001b[1;33m:\u001b[0m\u001b[1;33m\u001b[0m\u001b[0m\n\u001b[1;32m-> 2726\u001b[1;33m             \u001b[0mindexer\u001b[0m \u001b[1;33m=\u001b[0m \u001b[0mself\u001b[0m\u001b[1;33m.\u001b[0m\u001b[0mloc\u001b[0m\u001b[1;33m.\u001b[0m\u001b[0m_convert_to_indexer\u001b[0m\u001b[1;33m(\u001b[0m\u001b[0mkey\u001b[0m\u001b[1;33m,\u001b[0m \u001b[0maxis\u001b[0m\u001b[1;33m=\u001b[0m\u001b[1;36m1\u001b[0m\u001b[1;33m)\u001b[0m\u001b[1;33m\u001b[0m\u001b[0m\n\u001b[0m\u001b[0;32m   2727\u001b[0m             \u001b[1;32mreturn\u001b[0m \u001b[0mself\u001b[0m\u001b[1;33m.\u001b[0m\u001b[0m_take\u001b[0m\u001b[1;33m(\u001b[0m\u001b[0mindexer\u001b[0m\u001b[1;33m,\u001b[0m \u001b[0maxis\u001b[0m\u001b[1;33m=\u001b[0m\u001b[1;36m1\u001b[0m\u001b[1;33m)\u001b[0m\u001b[1;33m\u001b[0m\u001b[0m\n\u001b[0;32m   2728\u001b[0m \u001b[1;33m\u001b[0m\u001b[0m\n",
      "\u001b[1;32m~\\AppData\\Local\\Continuum\\anaconda3\\envs\\py36\\lib\\site-packages\\pandas\\core\\indexing.py\u001b[0m in \u001b[0;36m_convert_to_indexer\u001b[1;34m(self, obj, axis, is_setter)\u001b[0m\n\u001b[0;32m   1325\u001b[0m                 \u001b[1;32mif\u001b[0m \u001b[0mmask\u001b[0m\u001b[1;33m.\u001b[0m\u001b[0many\u001b[0m\u001b[1;33m(\u001b[0m\u001b[1;33m)\u001b[0m\u001b[1;33m:\u001b[0m\u001b[1;33m\u001b[0m\u001b[0m\n\u001b[0;32m   1326\u001b[0m                     raise KeyError('{mask} not in index'\n\u001b[1;32m-> 1327\u001b[1;33m                                    .format(mask=objarr[mask]))\n\u001b[0m\u001b[0;32m   1328\u001b[0m \u001b[1;33m\u001b[0m\u001b[0m\n\u001b[0;32m   1329\u001b[0m                 \u001b[1;32mreturn\u001b[0m \u001b[0mcom\u001b[0m\u001b[1;33m.\u001b[0m\u001b[0m_values_from_object\u001b[0m\u001b[1;33m(\u001b[0m\u001b[0mindexer\u001b[0m\u001b[1;33m)\u001b[0m\u001b[1;33m\u001b[0m\u001b[0m\n",
      "\u001b[1;31mKeyError\u001b[0m: '[  0   1   2   3   4   5   7   8   9  10  12  13  14  15  16  17  19  21\\n  22  23  24  25  26  27  28  29  30  31  32  33  34  35  36  38  39  40\\n  41  42  43  44  45  47  48  49  50  51  52  53  54  55  56  57  58  59\\n  60  61  62  63  64  65  66  67  68  69  70  71  72  73  74  75  76  77\\n  78  79  80  81  82  83  84  85  86  87  88  89  90  91  92  93  94  95\\n  96  97  98  99 100 101 102 103 104 105 106 107 108 109 110 111 112 113\\n 115 116 118 119 121 122 123 124 125 126 128 129 130 131 132 133 134 135\\n 136 137 138 139 140 141 142 144 145 146 147 148 151 152 153 154 156 158\\n 159 160 161 162 163 165 166 167 168 169 170 171 172 173 174 175 176 177\\n 178 179 180 181 182 183 184 186 188 189 190 192 194 195 196 197 198 199\\n 200 201 202 203 204 205 206 208 209 211 212 213 214 215 216 217 218 219\\n 220 221 222 223 224 225 226 227 228 229 230 231 232 233 234 235 236 237\\n 238 239 240 241 242 243 244 245 246 247 248 249 250 251 252 253 254 256\\n 258 259 260 261 262 263 264 265 266 267 268 269 271 272 273 275 276 277\\n 278 279 280 281 282 283 284 285 286 287 288 290 291 292 293 294 295 296\\n 297 298 299 300 301 302 303 304 305 306 307 309 310 311 312 315 316 317\\n 319 320 321 322 323 324 325 326 327 328 329 330 332 333 334 335 336 337\\n 338 339 340 341 342 343 344 345 346 347 348 350 351 353 354 355 356 357\\n 358 359 360 361 362 363 364 365 366 367 368 369 370 371 373 374 375 378\\n 379 380 381 382 383 384 385 386 388 389 390 391 392 393 395 396 397 398\\n 399 400 401 402 403 404 405 407 408 410 411 412 413 414 415 416 417 418\\n 419 421 422 423 424 425 426 427 428 429 430 431 434 435 436 437 438 439\\n 440 441 442 443 444 445 446 447 449 450 451 452 454 456 457 458 459 460\\n 461 462 463 464 465 466 467 468 469 470 471 472 473 474 475 476 477 478\\n 479 480 481 483 484 485 486 487 488 489 490 491 492 493 494 496 497 498\\n 499 500 501 502 503 504 507 508 509 510 511 512 513 514 515 516 517 518\\n 519 520 521 522 523 524 525 526 527 529 530 532 533 534 535 537 538 539\\n 540 541 542 543 544 545 546 547 548 549 550 551 552 553 554 555 556 557\\n 558 559 561 562 563 564 566 567 568 570 571 572 573 574 575 576 579 581\\n 582 583 584 585 586 587 588 589 591 592 593 594 595 596 597 598 600 601\\n 603 604 605 606 607 608 609 610 611 612 613 614 615 616 617 618 619 620\\n 621 623 624 625 626 628 629 630 631 633 634 635 636 637 638 639 641 642\\n 644 645 646 647 648 649 650 651 652 653 654 655 656 657 658 659 660 661\\n 662 663 664 665 667 668 669 670 672 673 675 676 677 678 680 681 682 683\\n 684 685 686 687 688 689 691 692 693 694 695 696 697 699 700 701 702 703\\n 704 705 706 707 708 709 710 711 712 713 715 716 717 718 719 720 721 723\\n 724 725 726 727 728 729 731 732 733 734 736 737 738 739 740 741 742 743\\n 744 745 746 748 749 750 751 752 753 754 755 756 757 758 759 760 761 762\\n 763 764 765 766 767 769 770 771 772 774 775 776 777 778 779 780 781 782\\n 783 784 786 787 788 789 790 791 793 794 795 796 797 798 799 800 801 802\\n 803 804 805 806 807 809 810 811 812 813 814 815 817 818 819 820 821 822\\n 823 825 826 827 828 829 830 831 832 833 835 836 837 838 839 840 842 843\\n 844 845 846 847 848 849 850 851 852 853 854 855 856 857 858 859 860 861\\n 862 863 864 865 866 867 868 869 870 872 873 874 875 876 877 878 879 880\\n 881 882 883 884 886 887 888 889 890] not in index'"
     ]
    }
   ],
   "source": [
    "#cross validation\n",
    "from sklearn.model_selection import KFold\n",
    "\n",
    "cv=KFold(n_splits=10,random_state=52,shuffle=True)\n",
    "\n",
    "X1=df1_train\n",
    "\n",
    "columns = ['Pclass','Sex','Age','Fare','Parch','SibSp']\n",
    "X=X1[columns]\n",
    "y=X1['Survived']\n",
    "\n",
    "\n",
    "\n",
    "for train_index,test_index in cv.split(X):\n",
    "    #print(train_index )\n",
    "    #print(test_index)\n",
    "    X_train,X_test=X[train_index],X[test_index]\n",
    "    y_train,y_test=y[train_index],y[test_index]\n",
    "    #clf.fit(X_train,y_train)\n",
    "    #print(clf.score(X_test,y_test))\n",
    "    \n",
    "\n",
    "    "
   ]
  },
  {
   "cell_type": "code",
   "execution_count": 41,
   "metadata": {},
   "outputs": [
    {
     "name": "stdout",
     "output_type": "stream",
     "text": [
      "1\n",
      "2\n",
      "3\n",
      "4\n",
      "5\n",
      "6\n",
      "7\n",
      "8\n",
      "9\n",
      "9\n"
     ]
    },
    {
     "data": {
      "image/png": "[encoded data removed]",
      "text/plain": [
       "<Figure size 432x288 with 1 Axes>"
      ]
     },
     "metadata": {
      "needs_background": "light"
     },
     "output_type": "display_data"
    },
    {
     "name": "stdout",
     "output_type": "stream",
     "text": [
      "[0.7620978120978121, 0.7143500643500643, 0.7743886743886744, 0.7759330759330759, 0.802960102960103, 0.8124839124839125, 0.7866795366795367, 0.7874517374517374, 0.806949806949807]\n"
     ]
    }
   ],
   "source": [
    "#random forest implementation\n",
    "\n",
    "from sklearn.ensemble import RandomForestClassifier\n",
    "\n",
    "\n",
    "\n",
    "#n-estimators hyper parameter tuning\n",
    "auc_train=[]\n",
    "auc_test=[]\n",
    "train_score=[]\n",
    "test_score=[]\n",
    "\n",
    "\n",
    "for i in np.arange(1,10,1):\n",
    "    print(i)\n",
    "    randomModel=RandomForestClassifier(n_estimators=i)\n",
    "    randomModel.fit(X_train,y_train)\n",
    "    y_pred=randomModel.predict(X_train)\n",
    "    \n",
    "    fpr_train,tpr_train,a_train=roc_curve(y_train,y_pred)\n",
    "    auc_train.append(auc(fpr_train,tpr_train))\n",
    "    \n",
    "    \n",
    "    \n",
    "    test_pred=randomModel.predict(X_test)\n",
    "    fpr_test,tpr_test,a_test=roc_curve(y_true=y_test,y_score=test_pred)\n",
    "    auc_test.append(auc(fpr_test,tpr_test))\n",
    "    \n",
    "    train_score.append(randomModel.score(X_train,y_train))\n",
    "    test_score.append(randomModel.score(X_test,y_test))\n",
    "\n",
    "print(len(auc_train))\n",
    "from matplotlib.legend_handler import HandlerLine2D\n",
    "line1, = plt.plot(np.arange(1,10,1), auc_train, 'b', label='Train AUC')\n",
    "line2, = plt.plot(np.arange(1,10,1), auc_test, 'r', label='Test AUC')\n",
    "\n",
    "plt.legend(handler_map={line1: HandlerLine2D(numpoints=2)})\n",
    "\n",
    "plt.ylabel('AUC score')\n",
    "plt.xlabel('Tree depth')\n",
    "plt.show()\n",
    "print(auc_test)"
   ]
  },
  {
   "cell_type": "code",
   "execution_count": 86,
   "metadata": {},
   "outputs": [
    {
     "name": "stdout",
     "output_type": "stream",
     "text": [
      "{'class_weight': None,\n",
      " 'criterion': 'entropy',\n",
      " 'max_depth': 6,\n",
      " 'max_features': None,\n",
      " 'max_leaf_nodes': None,\n",
      " 'min_impurity_decrease': 0.0,\n",
      " 'min_impurity_split': None,\n",
      " 'min_samples_leaf': 1,\n",
      " 'min_samples_split': 2,\n",
      " 'min_weight_fraction_leaf': 0.0,\n",
      " 'presort': False,\n",
      " 'random_state': None,\n",
      " 'splitter': 'best'}\n"
     ]
    }
   ],
   "source": [
    "#Gridsearch implementation\n",
    "\n",
    "from sklearn.model_selection import GridSearchCV\n",
    "from sklearn.metrics import classification_report\n",
    "from sklearn.model_selection import cross_val_score\n",
    "\n",
    "tuned_parameters=[{'n_estimators':[1,2,3,4,5],'criterion':['gini','entropy'],'min_samples_split':[2,3,4,5,6]}]\n",
    "\n",
    "clf1=GridSearchCV(RandomForestClassifier(),param_grid=tuned_parameters)\n",
    "\n",
    "clf1.fit(X_train,y_train)\n",
    "\n",
    "#print(clf1.best_params_)\n",
    "\n",
    "import pprint\n",
    "pprint.pprint(clf.get_params())\n",
    "#print(clf1.cv_results_['mean_fit_time'])\n",
    "#print(clf1.best_estimator_)\n",
    "#print(classification_report(clf1.predict(y_test).reshape(-1,1),y_test.reshape(-1,1)))\n",
    "\n",
    "\n",
    "\n",
    "x2=cross_val_score(estimator=clf1,X=X_train)\n",
    "\n"
   ]
  },
  {
   "cell_type": "code",
   "execution_count": null,
   "metadata": {},
   "outputs": [],
   "source": []
  }
 ],
 "metadata": {
  "kernelspec": {
   "display_name": "Python 3",
   "language": "python",
   "name": "python3"
  },
  "language_info": {
   "codemirror_mode": {
    "name": "ipython",
    "version": 3
   },
   "file_extension": ".py",
   "mimetype": "text/x-python",
   "name": "python",
   "nbconvert_exporter": "python",
   "pygments_lexer": "ipython3",
   "version": "3.6.6"
  }
 },
 "nbformat": 4,
 "nbformat_minor": 2
}
